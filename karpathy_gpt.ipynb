{
  "cells": [
    {
      "cell_type": "markdown",
      "metadata": {
        "id": "view-in-github",
        "colab_type": "text"
      },
      "source": [
        "<a href=\"https://colab.research.google.com/github/YanaiA/deep-yanai/blob/master/karpathy_gpt.ipynb\" target=\"_parent\"><img src=\"https://colab.research.google.com/assets/colab-badge.svg\" alt=\"Open In Colab\"/></a>"
      ]
    },
    {
      "cell_type": "code",
      "execution_count": 3,
      "metadata": {
        "id": "PR7zipmM8RLt"
      },
      "outputs": [],
      "source": [
        "import tensorflow as tf\n",
        "import tensorflow_datasets as tfds\n",
        "\n",
        "train_ds = tfds.as_dataframe(tfds.load(name='tiny_shakespeare', split='train'))\n",
        "val_ds = tfds.as_dataframe(tfds.load(name='tiny_shakespeare', split='validation'))\n"
      ]
    },
    {
      "cell_type": "code",
      "source": [
        "# lengths = [len(dataset[x]) for x in ['train', 'validation', 'test']]\n",
        "# print(f\"lengths of dataset is {lengths}\")\n",
        "\n",
        "train_txt = train_ds['text'].to_list()[0].decode(\"utf-8\")\n",
        "print(train_txt[:1000])\n",
        "val_txt = val_ds['text'].to_list()[0].decode(\"utf-8\")\n"
      ],
      "metadata": {
        "colab": {
          "base_uri": "https://localhost:8080/"
        },
        "id": "rLN1NkcxqKDt",
        "outputId": "75331a28-587f-4870-e7c6-0906335d41e8"
      },
      "execution_count": 4,
      "outputs": [
        {
          "output_type": "stream",
          "name": "stdout",
          "text": [
            "First Citizen:\n",
            "Before we proceed any further, hear me speak.\n",
            "\n",
            "All:\n",
            "Speak, speak.\n",
            "\n",
            "First Citizen:\n",
            "You are all resolved rather to die than to famish?\n",
            "\n",
            "All:\n",
            "Resolved. resolved.\n",
            "\n",
            "First Citizen:\n",
            "First, you know Caius Marcius is chief enemy to the people.\n",
            "\n",
            "All:\n",
            "We know't, we know't.\n",
            "\n",
            "First Citizen:\n",
            "Let us kill him, and we'll have corn at our own price.\n",
            "Is't a verdict?\n",
            "\n",
            "All:\n",
            "No more talking on't; let it be done: away, away!\n",
            "\n",
            "Second Citizen:\n",
            "One word, good citizens.\n",
            "\n",
            "First Citizen:\n",
            "We are accounted poor citizens, the patricians good.\n",
            "What authority surfeits on would relieve us: if they\n",
            "would yield us but the superfluity, while it were\n",
            "wholesome, we might guess they relieved us humanely;\n",
            "but they think we are too dear: the leanness that\n",
            "afflicts us, the object of our misery, is as an\n",
            "inventory to particularise their abundance; our\n",
            "sufferance is a gain to them Let us revenge this with\n",
            "our pikes, ere we become rakes: for the gods know I\n",
            "speak this in hunger for bread, not in thirst for revenge.\n",
            "\n",
            "\n"
          ]
        }
      ]
    },
    {
      "cell_type": "code",
      "execution_count": 5,
      "metadata": {
        "colab": {
          "base_uri": "https://localhost:8080/"
        },
        "id": "dyvuB-de63ll",
        "outputId": "b3eaacaa-828b-456d-be66-d0bab1a00784"
      },
      "outputs": [
        {
          "output_type": "stream",
          "name": "stdout",
          "text": [
            "\n",
            " !$&',-.3:;?ABCDEFGHIJKLMNOPQRSTUVWXYZabcdefghijklmnopqrstuvwxyz\n"
          ]
        }
      ],
      "source": [
        "chars = sorted(list(set(train_txt)))\n",
        "vocab_size = len(chars)\n",
        "print(''.join(chars))"
      ]
    },
    {
      "cell_type": "code",
      "execution_count": 6,
      "metadata": {
        "colab": {
          "base_uri": "https://localhost:8080/"
        },
        "id": "7__Y1w5w7NaI",
        "outputId": "cf18440f-d924-40bb-c3ba-876869395557"
      },
      "outputs": [
        {
          "output_type": "stream",
          "name": "stdout",
          "text": [
            "[46, 43, 50, 50, 53, 1, 61, 53, 56, 50, 42, 2]\n",
            "hello world!\n"
          ]
        }
      ],
      "source": [
        "stoi = {s:i for i, s in enumerate(chars)}\n",
        "itos = {i:s for i, s in enumerate(chars)}\n",
        "encode = lambda str:  [stoi[ch] for ch in str]\n",
        "decode = lambda arr: ''.join([itos[i] for i in arr])\n",
        "\n",
        "# encoders alternatives: tiktoken (chat-gpt), SentencePiece (google)\n",
        "\n",
        "print(encode(\"hello world!\"))\n",
        "print(decode(encode(\"hello world!\")))"
      ]
    },
    {
      "cell_type": "code",
      "execution_count": 7,
      "metadata": {
        "colab": {
          "base_uri": "https://localhost:8080/"
        },
        "id": "PyOSNcGD80zQ",
        "outputId": "472af361-d781-4bc1-b05d-bcd187212c25"
      },
      "outputs": [
        {
          "output_type": "stream",
          "name": "stdout",
          "text": [
            "tensor([18, 47, 56, 57, 58,  1, 15, 47, 58, 47, 64, 43, 52, 10,  0, 14, 43, 44,\n",
            "        53, 56, 43,  1, 61, 43,  1, 54, 56, 53, 41, 43, 43, 42,  1, 39, 52, 63,\n",
            "         1, 44, 59, 56, 58, 46, 43, 56,  6,  1, 46, 43, 39, 56,  1, 51, 43,  1,\n",
            "        57, 54, 43, 39, 49,  8,  0,  0, 13, 50, 50, 10,  0, 31, 54, 43, 39, 49,\n",
            "         6,  1, 57, 54, 43, 39, 49,  8,  0,  0, 18, 47, 56, 57, 58,  1, 15, 47,\n",
            "        58, 47, 64, 43, 52, 10,  0, 37, 53, 59,  1, 39, 56, 43,  1, 39, 50, 50,\n",
            "         1, 56, 43, 57, 53, 50, 60, 43, 42,  1, 56, 39, 58, 46, 43, 56,  1, 58,\n",
            "        53,  1, 42, 47, 43,  1, 58, 46, 39, 52,  1, 58, 53,  1, 44, 39, 51, 47,\n",
            "        57, 46, 12,  0,  0, 13, 50, 50, 10,  0, 30, 43, 57, 53, 50, 60, 43, 42,\n",
            "         8,  1, 56, 43, 57, 53, 50, 60, 43, 42,  8,  0,  0, 18, 47, 56, 57, 58,\n",
            "         1, 15, 47, 58, 47, 64, 43, 52, 10,  0, 18, 47, 56, 57, 58,  6,  1, 63,\n",
            "        53, 59,  1, 49, 52, 53, 61,  1, 15, 39, 47, 59, 57,  1, 25, 39, 56, 41,\n",
            "        47, 59, 57,  1, 47, 57,  1, 41, 46, 47, 43, 44,  1, 43, 52, 43, 51, 63,\n",
            "         1, 58, 53,  1, 58, 46, 43,  1, 54, 43, 53, 54, 50, 43,  8,  0,  0, 13,\n",
            "        50, 50, 10,  0, 35, 43,  1, 49, 52, 53, 61,  5, 58,  6,  1, 61, 43,  1,\n",
            "        49, 52, 53, 61,  5, 58,  8,  0,  0, 18, 47, 56, 57, 58,  1, 15, 47, 58,\n",
            "        47, 64, 43, 52, 10,  0, 24, 43, 58,  1, 59, 57,  1, 49, 47, 50, 50,  1,\n",
            "        46, 47, 51,  6,  1, 39, 52, 42,  1, 61, 43,  5, 50, 50,  1, 46, 39, 60,\n",
            "        43,  1, 41, 53, 56, 52,  1, 39, 58,  1, 53, 59, 56,  1, 53, 61, 52,  1,\n",
            "        54, 56, 47, 41, 43,  8,  0, 21, 57,  5, 58,  1, 39,  1, 60, 43, 56, 42,\n",
            "        47, 41, 58, 12,  0,  0, 13, 50, 50, 10,  0, 26, 53,  1, 51, 53, 56, 43,\n",
            "         1, 58, 39, 50, 49, 47, 52, 45,  1, 53, 52,  5, 58, 11,  1, 50, 43, 58,\n",
            "         1, 47, 58,  1, 40, 43,  1, 42, 53, 52, 43, 10,  1, 39, 61, 39, 63,  6,\n",
            "         1, 39, 61, 39, 63,  2,  0,  0, 31, 43, 41, 53, 52, 42,  1, 15, 47, 58,\n",
            "        47, 64, 43, 52, 10,  0, 27, 52, 43,  1, 61, 53, 56, 42,  6,  1, 45, 53,\n",
            "        53, 42,  1, 41, 47, 58, 47, 64, 43, 52, 57,  8,  0,  0, 18, 47, 56, 57,\n",
            "        58,  1, 15, 47, 58, 47, 64, 43, 52, 10,  0, 35, 43,  1, 39, 56, 43,  1,\n",
            "        39, 41, 41, 53, 59, 52, 58, 43, 42,  1, 54, 53, 53, 56,  1, 41, 47, 58,\n",
            "        47, 64, 43, 52, 57,  6,  1, 58, 46, 43,  1, 54, 39, 58, 56, 47, 41, 47,\n",
            "        39, 52, 57,  1, 45, 53, 53, 42,  8,  0, 35, 46, 39, 58,  1, 39, 59, 58,\n",
            "        46, 53, 56, 47, 58, 63,  1, 57, 59, 56, 44, 43, 47, 58, 57,  1, 53, 52,\n",
            "         1, 61, 53, 59, 50, 42,  1, 56, 43, 50, 47, 43, 60, 43,  1, 59, 57, 10,\n",
            "         1, 47, 44,  1, 58, 46, 43, 63,  0, 61, 53, 59, 50, 42,  1, 63, 47, 43,\n",
            "        50, 42,  1, 59, 57,  1, 40, 59, 58,  1, 58, 46, 43,  1, 57, 59, 54, 43,\n",
            "        56, 44, 50, 59, 47, 58, 63,  6,  1, 61, 46, 47, 50, 43,  1, 47, 58,  1,\n",
            "        61, 43, 56, 43,  0, 61, 46, 53, 50, 43, 57, 53, 51, 43,  6,  1, 61, 43,\n",
            "         1, 51, 47, 45, 46, 58,  1, 45, 59, 43, 57, 57,  1, 58, 46, 43, 63,  1,\n",
            "        56, 43, 50, 47, 43, 60, 43, 42,  1, 59, 57,  1, 46, 59, 51, 39, 52, 43,\n",
            "        50, 63, 11,  0, 40, 59, 58,  1, 58, 46, 43, 63,  1, 58, 46, 47, 52, 49,\n",
            "         1, 61, 43,  1, 39, 56, 43,  1, 58, 53, 53,  1, 42, 43, 39, 56, 10,  1,\n",
            "        58, 46, 43,  1, 50, 43, 39, 52, 52, 43, 57, 57,  1, 58, 46, 39, 58,  0,\n",
            "        39, 44, 44, 50, 47, 41, 58, 57,  1, 59, 57,  6,  1, 58, 46, 43,  1, 53,\n",
            "        40, 48, 43, 41, 58,  1, 53, 44,  1, 53, 59, 56,  1, 51, 47, 57, 43, 56,\n",
            "        63,  6,  1, 47, 57,  1, 39, 57,  1, 39, 52,  0, 47, 52, 60, 43, 52, 58,\n",
            "        53, 56, 63,  1, 58, 53,  1, 54, 39, 56, 58, 47, 41, 59, 50, 39, 56, 47,\n",
            "        57, 43,  1, 58, 46, 43, 47, 56,  1, 39, 40, 59, 52, 42, 39, 52, 41, 43,\n",
            "        11,  1, 53, 59, 56,  0, 57, 59, 44, 44, 43, 56, 39, 52, 41, 43,  1, 47,\n",
            "        57,  1, 39,  1, 45, 39, 47, 52,  1, 58, 53,  1, 58, 46, 43, 51,  1, 24,\n",
            "        43, 58,  1, 59, 57,  1, 56, 43, 60, 43, 52, 45, 43,  1, 58, 46, 47, 57,\n",
            "         1, 61, 47, 58, 46,  0, 53, 59, 56,  1, 54, 47, 49, 43, 57,  6,  1, 43,\n",
            "        56, 43,  1, 61, 43,  1, 40, 43, 41, 53, 51, 43,  1, 56, 39, 49, 43, 57,\n",
            "        10,  1, 44, 53, 56,  1, 58, 46, 43,  1, 45, 53, 42, 57,  1, 49, 52, 53,\n",
            "        61,  1, 21,  0, 57, 54, 43, 39, 49,  1, 58, 46, 47, 57,  1, 47, 52,  1,\n",
            "        46, 59, 52, 45, 43, 56,  1, 44, 53, 56,  1, 40, 56, 43, 39, 42,  6,  1,\n",
            "        52, 53, 58,  1, 47, 52,  1, 58, 46, 47, 56, 57, 58,  1, 44, 53, 56,  1,\n",
            "        56, 43, 60, 43, 52, 45, 43,  8,  0,  0])\n"
          ]
        }
      ],
      "source": [
        "import torch\n",
        "train_data = torch.tensor(encode(train_txt), dtype=torch.long)\n",
        "print(train_data[:1000])\n",
        "val_data = torch.tensor(encode(val_txt), dtype=torch.long)"
      ]
    },
    {
      "cell_type": "code",
      "execution_count": 8,
      "metadata": {
        "colab": {
          "base_uri": "https://localhost:8080/"
        },
        "id": "IRTtSxMBAy_n",
        "outputId": "f3f70309-ef1e-4430-a1bd-ffc74a4244b6"
      },
      "outputs": [
        {
          "output_type": "stream",
          "name": "stdout",
          "text": [
            "when context is tensor([18]), target is 47\n",
            "when context is tensor([18, 47]), target is 56\n",
            "when context is tensor([18, 47, 56]), target is 57\n",
            "when context is tensor([18, 47, 56, 57]), target is 58\n",
            "when context is tensor([18, 47, 56, 57, 58]), target is 1\n",
            "when context is tensor([18, 47, 56, 57, 58,  1]), target is 15\n",
            "when context is tensor([18, 47, 56, 57, 58,  1, 15]), target is 47\n",
            "when context is tensor([18, 47, 56, 57, 58,  1, 15, 47]), target is 58\n",
            "when context is tensor([47, 56, 57, 58,  1, 15, 47, 58]), target is 47\n",
            "when context is tensor([56, 57, 58,  1, 15, 47, 58, 47]), target is 64\n",
            "when context is tensor([57, 58,  1, 15, 47, 58, 47, 64]), target is 43\n",
            "when context is tensor([58,  1, 15, 47, 58, 47, 64, 43]), target is 52\n",
            "when context is tensor([ 1, 15, 47, 58, 47, 64, 43, 52]), target is 10\n",
            "when context is tensor([15, 47, 58, 47, 64, 43, 52, 10]), target is 0\n",
            "when context is tensor([47, 58, 47, 64, 43, 52, 10,  0]), target is 14\n",
            "when context is tensor([58, 47, 64, 43, 52, 10,  0, 14]), target is 43\n"
          ]
        }
      ],
      "source": [
        "block_size = 8\n",
        "x = train_data[:block_size*2]\n",
        "y = train_data[1:block_size*2+1]\n",
        "for t in range(block_size*2):\n",
        "    context = x[max(0,t-block_size+1):t+1]\n",
        "    target = y[t]\n",
        "    print(f'when context is {context}, target is {target}')"
      ]
    },
    {
      "cell_type": "code",
      "execution_count": 9,
      "metadata": {
        "colab": {
          "base_uri": "https://localhost:8080/"
        },
        "id": "MeD-R_kwDNMG",
        "outputId": "3dde42f8-6a7c-4783-f9f6-b07d28b4041f"
      },
      "outputs": [
        {
          "output_type": "stream",
          "name": "stdout",
          "text": [
            "tensor([[46, 43,  1, 45, 47, 60, 43, 57],\n",
            "        [51,  1, 58, 46, 43,  1, 63, 53],\n",
            "        [39, 50, 50,  1, 63, 53, 59,  1],\n",
            "        [53, 61, 52,  1, 57, 53, 59, 50]])\n",
            "tensor([[43,  1, 45, 47, 60, 43, 57,  1],\n",
            "        [ 1, 58, 46, 43,  1, 63, 53, 59],\n",
            "        [50, 50,  1, 63, 53, 59,  1, 46],\n",
            "        [61, 52,  1, 57, 53, 59, 50,  1]])\n"
          ]
        }
      ],
      "source": [
        "batch_size = 4\n",
        "torch.manual_seed(0)\n",
        "device = 'cuda' if torch.cuda.is_available() else 'cpu'\n",
        "\n",
        "def get_batch(split):\n",
        "    data = train_data if split == 'train' else val_data\n",
        "    batch_indexes = torch.randint(len(data) - block_size, (batch_size,))\n",
        "    x = torch.stack([data[i:i+block_size] for i in batch_indexes])\n",
        "    y = torch.stack([data[i+1:i+block_size+1] for i in batch_indexes])\n",
        "    x = x.to(device)\n",
        "    y = y.to(device)\n",
        "    return x, y\n",
        "\n",
        "x_batch, y_batch = get_batch('train')\n",
        "print(x_batch)\n",
        "print(y_batch)"
      ]
    },
    {
      "cell_type": "code",
      "source": [
        "eval_iters = 200\n",
        "\n",
        "@torch.no_grad()\n",
        "def estimate_loss():\n",
        "    out = {}\n",
        "    model.eval()  # set to evaluate mode (e.g. no batch-norm, dropout)\n",
        "    for split in ['train', 'val']:\n",
        "        losses = torch.zeros(eval_iters)\n",
        "        for k in range(eval_iters):\n",
        "            xb, yb = get_batch(split)\n",
        "            _, loss = model(xb, yb)\n",
        "            losses[k] = loss.item()\n",
        "        out[split] = losses.mean()\n",
        "    \n",
        "    model.train() # return to train mode\n",
        "    return out"
      ],
      "metadata": {
        "id": "P-LBYYkX1s1g"
      },
      "execution_count": 10,
      "outputs": []
    },
    {
      "cell_type": "code",
      "execution_count": 11,
      "metadata": {
        "colab": {
          "base_uri": "https://localhost:8080/"
        },
        "id": "d37jZDREHqY3",
        "outputId": "ac2aaab2-8022-4ba9-de5c-fa7365797f37"
      },
      "outputs": [
        {
          "output_type": "stream",
          "name": "stdout",
          "text": [
            "tensor(4.2890, grad_fn=<NllLossBackward0>)\n",
            "\n",
            "eyflW,VeBV\n",
            "OBA.ptGA'hh&zd!WzE'\n",
            "zemuNuOshAS EpnOAv-.&Whe,O;\n",
            "n;Gh.ApU:DYOd\n",
            ",otFw,,m'hwYAlTesuOoWzlA'Wt\n"
          ]
        }
      ],
      "source": [
        "import torch.nn as nn\n",
        "from torch.nn import functional as F\n",
        "n_embedding = 32\n",
        "\n",
        "class BigramLanguageModel(nn.Module):\n",
        "    def __init__(self, vocab_size) -> None:\n",
        "        super().__init__()\n",
        "        self.token_embedding_table = nn.Embedding(vocab_size, n_embedding)\n",
        "        self.position_embedding_table = nn.Embedding(vocab_size, n_embedding)\n",
        "        self.lang_model_head = nn.Linear(n_embedding, vocab_size)\n",
        "    \n",
        "    def forward(self, inputs, targets=None):\n",
        "        B, T = inputs.shape\n",
        "\n",
        "        # inputs & targets are [B=batch,T=time=block_size]\n",
        "        tokens_embedding = self.token_embedding_table(inputs)   # (B, T, C=channels=embedding)\n",
        "        pos_embedding = self.position_embedding_table(torch.arange(T, device=device))   # integers, [0..T-1]\n",
        "        tok_and_pos = tokens_embedding + pos_embedding\n",
        "        logits = self.lang_model_head(tok_and_pos)   # (B, T, C=channels=vocab_size)\n",
        "\n",
        "        #reshape for cross-entrooy\n",
        "        if targets is None:\n",
        "            loss = None\n",
        "        else:\n",
        "            B, T, C = logits.shape\n",
        "            logits_reshaped = logits.view(B*T, C)\n",
        "            targets_reshaped = targets.view(B*T)\n",
        "            loss = F.cross_entropy(logits_reshaped, targets_reshaped)\n",
        "\n",
        "        return logits, loss\n",
        "\n",
        "    def generate(self, inputs, new_tokens):\n",
        "        outputs = inputs\n",
        "        for _ in range(new_tokens):\n",
        "            logits, _ = self(inputs)\n",
        "            logits = logits[:, -1, :]   # take logits of last time step => [B, C]\n",
        "            probs = F.softmax(logits, dim=-1)\n",
        "            predictions = torch.multinomial(probs, num_samples=1)  # sample from probabilities => [B, 1]\n",
        "            outputs = torch.cat((outputs, predictions), dim=1)  # [B, T+1]\n",
        "        return outputs\n",
        "\n",
        "        \n",
        "model = BigramLanguageModel(vocab_size).to(device)\n",
        "logits, loss = model(x_batch, y_batch)\n",
        "print(loss)\n",
        "\n",
        "simple_inputs = torch.zeros((1, 1), dtype=torch.long, device=device)\n",
        "generated_string = model.generate(simple_inputs, 100)[0]  # 0 - take first (and only) batch\n",
        "print(decode(generated_string.tolist()))\n",
        "\n"
      ]
    },
    {
      "cell_type": "code",
      "execution_count": 12,
      "metadata": {
        "id": "J8V4AU0XJCGB",
        "colab": {
          "base_uri": "https://localhost:8080/"
        },
        "outputId": "9da7989b-0712-449b-d96d-ca4271250980"
      },
      "outputs": [
        {
          "output_type": "stream",
          "name": "stdout",
          "text": [
            "Step: 0, Loss: {'train': tensor(4.6328), 'val': tensor(4.6268)}\n",
            "Step: 1000, Loss: {'train': tensor(2.8102), 'val': tensor(2.8028)}\n",
            "Step: 2000, Loss: {'train': tensor(2.6241), 'val': tensor(2.6397)}\n",
            "Step: 3000, Loss: {'train': tensor(2.5884), 'val': tensor(2.5776)}\n",
            "Step: 4000, Loss: {'train': tensor(2.5519), 'val': tensor(2.5387)}\n",
            "Step: 5000, Loss: {'train': tensor(2.5260), 'val': tensor(2.5423)}\n",
            "Step: 6000, Loss: {'train': tensor(2.5302), 'val': tensor(2.5394)}\n",
            "Step: 7000, Loss: {'train': tensor(2.5159), 'val': tensor(2.5220)}\n",
            "Step: 8000, Loss: {'train': tensor(2.5321), 'val': tensor(2.5690)}\n",
            "Step: 9000, Loss: {'train': tensor(2.4820), 'val': tensor(2.5379)}\n",
            "\n",
            "\n",
            "AAFWF\n",
            "D\n",
            "TAFN\n",
            "\n",
            "\n",
            "LfSCAW\n",
            "WC-ULWTGA\n",
            "TAWdNPFoOA\n",
            "THHTT?HBAINNLLMBBSQbTLBNPTHS\n",
            "AFIBOPAHAOnASIM\n",
            "TTITIFTSBTT\n"
          ]
        }
      ],
      "source": [
        "model = BigramLanguageModel(vocab_size).to(device)\n",
        "optimizer = torch.optim.AdamW(model.parameters(), lr=1e-3)\n",
        "#losses = []\n",
        "max_iters = 10000\n",
        "eval_interval = 1000\n",
        "for step in range(max_iters):\n",
        "    if step % eval_interval == 0:\n",
        "        losses = estimate_loss()\n",
        "        print(f'Step: {step}, Loss: {losses}')\n",
        "\n",
        "    xb, yb = get_batch('train')\n",
        "    logits, loss = model(xb, yb)\n",
        "    optimizer.zero_grad(set_to_none=True)\n",
        "    loss.backward()\n",
        "    optimizer.step()\n",
        "\n",
        "    #losses.append(loss.item())\n",
        "\n",
        "#from matplotlib import pyplot\n",
        "#pyplot.plot(losses)\n",
        "\n",
        "generated_string = model.generate(simple_inputs, 100)[0]  # 0 - take first (and only) batch\n",
        "print(decode(generated_string.tolist()))"
      ]
    },
    {
      "cell_type": "code",
      "source": [
        "max_iters = 3000\n",
        "learning_rate = 1e-2\n",
        "\n",
        "model = BigramLanguageModel(vocab_size).to(device)\n",
        "\n"
      ],
      "metadata": {
        "id": "qdqrypziztNn"
      },
      "execution_count": 13,
      "outputs": []
    }
  ],
  "metadata": {
    "colab": {
      "provenance": [],
      "authorship_tag": "ABX9TyNj54s02iZnNZBp8ZLuYcJ+",
      "include_colab_link": true
    },
    "kernelspec": {
      "display_name": "Python 3",
      "name": "python3"
    },
    "language_info": {
      "name": "python"
    }
  },
  "nbformat": 4,
  "nbformat_minor": 0
}