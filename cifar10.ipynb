{
  "nbformat": 4,
  "nbformat_minor": 0,
  "metadata": {
    "colab": {
      "name": "cifar10.ipynb",
      "private_outputs": true,
      "provenance": [],
      "collapsed_sections": [],
      "authorship_tag": "ABX9TyPGDwQ2cKNqe8isqDEgfrAJ",
      "include_colab_link": true
    },
    "kernelspec": {
      "name": "python3",
      "display_name": "Python 3"
    },
    "accelerator": "GPU"
  },
  "cells": [
    {
      "cell_type": "markdown",
      "metadata": {
        "id": "view-in-github",
        "colab_type": "text"
      },
      "source": [
        "<a href=\"https://colab.research.google.com/github/YanaiA/deep-yanai/blob/master/cifar10.ipynb\" target=\"_parent\"><img src=\"https://colab.research.google.com/assets/colab-badge.svg\" alt=\"Open In Colab\"/></a>"
      ]
    },
    {
      "cell_type": "code",
      "metadata": {
        "id": "uB-EsLHhQRqG"
      },
      "source": [
        "from keras.utils import to_categorical\n",
        "from keras.datasets import cifar10\n",
        "from keras.callbacks import ModelCheckpoint\n",
        "from keras.models import Sequential\n",
        "from keras.layers import Flatten, Dense\n",
        "from keras.optimizers import Adam\n",
        "from datetime import datetime\n",
        "import posixpath\n",
        "\n",
        "%pip install wandb -q\n",
        "import wandb\n",
        "from wandb.keras import WandbCallback\n"
      ],
      "execution_count": null,
      "outputs": []
    },
    {
      "cell_type": "code",
      "metadata": {
        "id": "NTY4sh3RP8XC"
      },
      "source": [
        " #  prepare data\n",
        "(x_train, y_train), (x_test, y_test) = cifar10.load_data()\n",
        "\n",
        "num_classes = 10\n",
        "\n",
        "def _fix_inputs(x, y):\n",
        "    x = x.astype('float32') / 255.0\n",
        "    y = to_categorical(y, num_classes)\n",
        "    return x, y\n",
        "\n",
        "(x_train, y_train) = _fix_inputs(x_train, y_train)\n",
        "(x_test, y_test) = _fix_inputs(x_test, y_test)\n",
        "input_shape = x_train.shape[1:]"
      ],
      "execution_count": null,
      "outputs": []
    },
    {
      "cell_type": "code",
      "metadata": {
        "id": "Y8adhwNnRR5Z"
      },
      "source": [
        "# create model\n",
        "model = Sequential([\n",
        "    Dense(200, activation='relu', input_shape=input_shape),\n",
        "    Flatten(),\n",
        "    Dense(150, activation='relu'),\n",
        "    Dense(num_classes, activation='softmax')\n",
        "])\n",
        "model.compile(loss='categorical_crossentropy', optimizer=Adam(lr=5e-3), metrics=['accuracy'])"
      ],
      "execution_count": null,
      "outputs": []
    },
    {
      "cell_type": "code",
      "metadata": {
        "id": "PcJpq1-TRs4d"
      },
      "source": [
        "wandb.login()\n",
        "wandb.init(project=\"yanai-test1\")\n",
        "\n",
        "task = 'cifar10'\n",
        "date = datetime.now().strftime(\"%d-%m-%Y-%H-%M-%S\")\n",
        "checkpoints_path = f'/opt/ml/model/checkpoints/{task}/{date}'\n",
        "checkpoints_file_format = 'checkpoints.{epoch:02d}-{val_loss:.2f}.hdf5'\n",
        "model.fit(x_train, y_train, verbose=2,\n",
        "          batch_size=32, epochs=200, shuffle=True, validation_split=0.2,\n",
        "          callbacks=[WandbCallback(),\n",
        "                      ModelCheckpoint(posixpath.join(checkpoints_path, checkpoints_file_format))])\n"
      ],
      "execution_count": null,
      "outputs": []
    }
  ]
}